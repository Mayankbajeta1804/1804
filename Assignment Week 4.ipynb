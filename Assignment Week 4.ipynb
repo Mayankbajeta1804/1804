{
 "cells": [
  {
   "cell_type": "markdown",
   "metadata": {
    "collapsed": true
   },
   "source": [
    "# My Jupyter Notebook on IBM Watson Studio"
   ]
  },
  {
   "cell_type": "markdown",
   "metadata": {},
   "source": [
    "__Mayank Singh Bajeta__\n",
    "Data Architect"
   ]
  },
  {
   "cell_type": "markdown",
   "metadata": {},
   "source": [
    "_I am intrested in Data Science because it is an emerging profession. And since the future will be of the IT industry I want to be up to date._"
   ]
  },
  {
   "cell_type": "markdown",
   "metadata": {},
   "source": [
    "### The code below will take 2 inputs from the user and multiply them."
   ]
  },
  {
   "cell_type": "code",
   "execution_count": 3,
   "metadata": {},
   "outputs": [
    {
     "name": "stdout",
     "output_type": "stream",
     "text": [
      "Enter a, and b and we will give you result 'a*b'.\n",
      "Enter the value of a:10\n",
      "Enter the value of b:5\n",
      "a*b =  50\n"
     ]
    }
   ],
   "source": [
    "print(\"Enter a, and b and we will give you result 'a*b'.\")\n",
    "a = int(input(\"Enter the value of a:\"))\n",
    "b = int(input(\"Enter the value of b:\"))\n",
    "print(\"a*b = \", a*b)"
   ]
  },
  {
   "cell_type": "markdown",
   "metadata": {},
   "source": [
    "### Bullet List:\n",
    "-  Bullet 1\n",
    "    - Bullet 2\n",
    "       - Bullet 3\n",
    "### Table:\n",
    "| S.No. | Name | last Name |\n",
    "| --- | --- | --- |\n",
    "| 1 | Mayank | Bajeta |\n",
    "| 2 | Rishabh | Panth |\n",
    "### Horizontal Rule:\n",
    "---\n",
    "<hr>\n",
    "       "
   ]
  }
 ],
 "metadata": {
  "kernelspec": {
   "display_name": "Python 3.10",
   "language": "python",
   "name": "python3"
  },
  "language_info": {
   "codemirror_mode": {
    "name": "ipython",
    "version": 3
   },
   "file_extension": ".py",
   "mimetype": "text/x-python",
   "name": "python",
   "nbconvert_exporter": "python",
   "pygments_lexer": "ipython3",
   "version": "3.10.9"
  }
 },
 "nbformat": 4,
 "nbformat_minor": 1
}
